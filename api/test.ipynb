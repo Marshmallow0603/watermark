{
 "cells": [
  {
   "cell_type": "code",
   "execution_count": 1,
   "metadata": {},
   "outputs": [],
   "source": [
    "import requests\n",
    "from PIL import Image\n",
    "import io, base64"
   ]
  },
  {
   "cell_type": "code",
   "execution_count": 2,
   "metadata": {},
   "outputs": [],
   "source": [
    "import time"
   ]
  },
  {
   "cell_type": "code",
   "execution_count": 3,
   "metadata": {},
   "outputs": [
    {
     "name": "stdout",
     "output_type": "stream",
     "text": [
      "An error occurred: An error occurred during image conversion\n"
     ]
    }
   ],
   "source": [
    "image = Image.open('0.png')\n",
    "\n",
    "buffered = io.BytesIO()\n",
    "image.save(buffered, format=\"JPEG\")\n",
    "img_base64 = base64.b64encode(buffered.getvalue()).decode('utf-8')\n",
    "\n",
    "data = {\n",
    "    'image': img_base64,\n",
    "    'task': 'avito'\n",
    "}\n",
    "start_time = time.time()\n",
    "response = requests.post('http://127.0.0.1:5000', json=data)\n",
    "\n",
    "if response.status_code == 200:\n",
    "    converted_image = response.json()['image']\n",
    "    print(\"--- %s seconds ---\" % (time.time() - start_time))\n",
    "    \n",
    "    image_data = base64.b64decode(converted_image)\n",
    "    converted_image = Image.open(io.BytesIO(image_data))\n",
    "    \n",
    "    converted_image.show()\n",
    "else:\n",
    "    print('An error occurred:', response.json()['message'])"
   ]
  }
 ],
 "metadata": {
  "kernelspec": {
   "display_name": "Python 3",
   "language": "python",
   "name": "python3"
  },
  "language_info": {
   "codemirror_mode": {
    "name": "ipython",
    "version": 3
   },
   "file_extension": ".py",
   "mimetype": "text/x-python",
   "name": "python",
   "nbconvert_exporter": "python",
   "pygments_lexer": "ipython3",
   "version": "3.10.9"
  }
 },
 "nbformat": 4,
 "nbformat_minor": 2
}
